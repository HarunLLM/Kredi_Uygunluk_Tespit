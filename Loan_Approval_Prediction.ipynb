{
 "cells": [
  {
   "cell_type": "markdown",
   "id": "5d5a2ae4-8495-47a1-bdee-7ffa7d0be9ce",
   "metadata": {},
   "source": [
    "# Project Introduction\n",
    "\n",
    "The primary objective of this project is to predict whether a loan applicant will be approved or not, using the provided dataset. By analyzing various applicant features and applying suitable machine learning models, we aim to assist financial institutions in making more accurate and data-driven loan approval decisions.\n",
    "### Canlı Demo\n",
    "\n",
    "Hazırlanan kredi onayı tahmin sisteminin canlı demosuna aşağıdaki bağlantıdan ulaşabilirsiniz:\n",
    "\n",
    "[Loan Approval Detection - Canlı Demo](https://huggingface.co/spaces/HarunDemircioglu11/Loan_Approval_Detection)\n"
   ]
  },
  {
   "cell_type": "markdown",
   "id": "dbb103d1-da19-4823-9a5a-1af063ca42b3",
   "metadata": {},
   "source": [
    "<img src='https://www.getzype.com/wp-content/uploads/2023/09/pastedimage4-1-65c0c383de0b3.webp' width=500>"
   ]
  },
  {
   "cell_type": "markdown",
   "id": "fcb186c3-baa6-45ff-ba19-ed97c302d417",
   "metadata": {},
   "source": [
    "## Veri Seti Sütun Açıklamaları\n",
    "\n",
    "| Sütun Adı                        | Açıklama                                                                                      |\n",
    "|-----------------------------------|----------------------------------------------------------------------------------------------|\n",
    "| `id`                             | Her başvuruya özel, benzersiz kimlik numarası (index)                                        |\n",
    "| `person_age`                     | Başvuru yapan kişinin yaşı                                                                   |\n",
    "| `person_income`                  | Kişinin yıllık geliri (para birimi: USD, TL vs. veri kaynağına göre değişir)                 |\n",
    "| `person_home_ownership`           | Kişinin ev sahipliği durumu (`RENT`: Kiracı, `OWN`: Ev sahibi, `MORTGAGE`: İpotekli, vs.)    |\n",
    "| `person_emp_length`              | Kişinin mevcut işinde çalıştığı yıl sayısı (tecrübe süresi)                                  |\n",
    "| `loan_intent`                    | Kredi başvurusunun amacı (`EDUCATION`: Eğitim, `MEDICAL`: Sağlık, `PERSONAL`: Kişisel, vs.)  |\n",
    "| `loan_grade`                     | Kredi başvurusunun değerlendirme notu/kategorisi (A, B, C, ...)                              |\n",
    "| `loan_amnt`                      | Talep edilen kredi miktarı (para birimi: USD, TL, vs.)                                       |\n",
    "| `loan_int_rate`                  | Kredi için uygulanan faiz oranı (yüzde, ör: 11.49)                                           |\n",
    "| `loan_percent_income`            | Kredi miktarının başvuranın gelirine oranı (ör: 0.17 = %17)                                  |\n",
    "| `cb_person_default_on_file`      | Kişinin kredi bürosunda temerrüt kaydı olup olmadığı (`Y`: Var, `N`: Yok)                    |\n",
    "| `cb_person_cred_hist_length`     | Kredi geçmişi süresi (yıl olarak)                                                            |\n",
    "| `loan_status`                    | Kredinin onaylanıp onaylanmadığı (Hedef değişken: `1`: Onaylandı, `0`: Onaylanmadı)          |\n"
   ]
  },
  {
   "cell_type": "code",
   "execution_count": 7,
   "id": "34e79df8-ed63-4c32-9db7-fc898a69ed78",
   "metadata": {},
   "outputs": [],
   "source": [
    "import pandas as pd\n",
    "import seaborn as sns\n",
    "import matplotlib.pyplot as plt\n",
    "import warnings\n",
    "warnings.filterwarnings('ignore')"
   ]
  },
  {
   "cell_type": "code",
   "execution_count": 13,
   "id": "3e88cda1-0ac1-433b-a741-6b0e1e4f70d1",
   "metadata": {},
   "outputs": [],
   "source": [
    "df=pd.read_csv('train.csv')"
   ]
  },
  {
   "cell_type": "code",
   "execution_count": 15,
   "id": "5b0d6906-5503-4712-8268-2db2bb3ec003",
   "metadata": {},
   "outputs": [
    {
     "data": {
      "text/html": [
       "<div>\n",
       "<style scoped>\n",
       "    .dataframe tbody tr th:only-of-type {\n",
       "        vertical-align: middle;\n",
       "    }\n",
       "\n",
       "    .dataframe tbody tr th {\n",
       "        vertical-align: top;\n",
       "    }\n",
       "\n",
       "    .dataframe thead th {\n",
       "        text-align: right;\n",
       "    }\n",
       "</style>\n",
       "<table border=\"1\" class=\"dataframe\">\n",
       "  <thead>\n",
       "    <tr style=\"text-align: right;\">\n",
       "      <th></th>\n",
       "      <th>id</th>\n",
       "      <th>person_age</th>\n",
       "      <th>person_income</th>\n",
       "      <th>person_home_ownership</th>\n",
       "      <th>person_emp_length</th>\n",
       "      <th>loan_intent</th>\n",
       "      <th>loan_grade</th>\n",
       "      <th>loan_amnt</th>\n",
       "      <th>loan_int_rate</th>\n",
       "      <th>loan_percent_income</th>\n",
       "      <th>cb_person_default_on_file</th>\n",
       "      <th>cb_person_cred_hist_length</th>\n",
       "      <th>loan_status</th>\n",
       "    </tr>\n",
       "  </thead>\n",
       "  <tbody>\n",
       "    <tr>\n",
       "      <th>0</th>\n",
       "      <td>0</td>\n",
       "      <td>37</td>\n",
       "      <td>35000</td>\n",
       "      <td>RENT</td>\n",
       "      <td>0.0</td>\n",
       "      <td>EDUCATION</td>\n",
       "      <td>B</td>\n",
       "      <td>6000</td>\n",
       "      <td>11.49</td>\n",
       "      <td>0.17</td>\n",
       "      <td>N</td>\n",
       "      <td>14</td>\n",
       "      <td>0</td>\n",
       "    </tr>\n",
       "    <tr>\n",
       "      <th>1</th>\n",
       "      <td>1</td>\n",
       "      <td>22</td>\n",
       "      <td>56000</td>\n",
       "      <td>OWN</td>\n",
       "      <td>6.0</td>\n",
       "      <td>MEDICAL</td>\n",
       "      <td>C</td>\n",
       "      <td>4000</td>\n",
       "      <td>13.35</td>\n",
       "      <td>0.07</td>\n",
       "      <td>N</td>\n",
       "      <td>2</td>\n",
       "      <td>0</td>\n",
       "    </tr>\n",
       "    <tr>\n",
       "      <th>2</th>\n",
       "      <td>2</td>\n",
       "      <td>29</td>\n",
       "      <td>28800</td>\n",
       "      <td>OWN</td>\n",
       "      <td>8.0</td>\n",
       "      <td>PERSONAL</td>\n",
       "      <td>A</td>\n",
       "      <td>6000</td>\n",
       "      <td>8.90</td>\n",
       "      <td>0.21</td>\n",
       "      <td>N</td>\n",
       "      <td>10</td>\n",
       "      <td>0</td>\n",
       "    </tr>\n",
       "    <tr>\n",
       "      <th>3</th>\n",
       "      <td>3</td>\n",
       "      <td>30</td>\n",
       "      <td>70000</td>\n",
       "      <td>RENT</td>\n",
       "      <td>14.0</td>\n",
       "      <td>VENTURE</td>\n",
       "      <td>B</td>\n",
       "      <td>12000</td>\n",
       "      <td>11.11</td>\n",
       "      <td>0.17</td>\n",
       "      <td>N</td>\n",
       "      <td>5</td>\n",
       "      <td>0</td>\n",
       "    </tr>\n",
       "    <tr>\n",
       "      <th>4</th>\n",
       "      <td>4</td>\n",
       "      <td>22</td>\n",
       "      <td>60000</td>\n",
       "      <td>RENT</td>\n",
       "      <td>2.0</td>\n",
       "      <td>MEDICAL</td>\n",
       "      <td>A</td>\n",
       "      <td>6000</td>\n",
       "      <td>6.92</td>\n",
       "      <td>0.10</td>\n",
       "      <td>N</td>\n",
       "      <td>3</td>\n",
       "      <td>0</td>\n",
       "    </tr>\n",
       "  </tbody>\n",
       "</table>\n",
       "</div>"
      ],
      "text/plain": [
       "   id  person_age  person_income person_home_ownership  person_emp_length  \\\n",
       "0   0          37          35000                  RENT                0.0   \n",
       "1   1          22          56000                   OWN                6.0   \n",
       "2   2          29          28800                   OWN                8.0   \n",
       "3   3          30          70000                  RENT               14.0   \n",
       "4   4          22          60000                  RENT                2.0   \n",
       "\n",
       "  loan_intent loan_grade  loan_amnt  loan_int_rate  loan_percent_income  \\\n",
       "0   EDUCATION          B       6000          11.49                 0.17   \n",
       "1     MEDICAL          C       4000          13.35                 0.07   \n",
       "2    PERSONAL          A       6000           8.90                 0.21   \n",
       "3     VENTURE          B      12000          11.11                 0.17   \n",
       "4     MEDICAL          A       6000           6.92                 0.10   \n",
       "\n",
       "  cb_person_default_on_file  cb_person_cred_hist_length  loan_status  \n",
       "0                         N                          14            0  \n",
       "1                         N                           2            0  \n",
       "2                         N                          10            0  \n",
       "3                         N                           5            0  \n",
       "4                         N                           3            0  "
      ]
     },
     "execution_count": 15,
     "metadata": {},
     "output_type": "execute_result"
    }
   ],
   "source": [
    "df.head()"
   ]
  },
  {
   "cell_type": "code",
   "execution_count": 23,
   "id": "e332ac05-5a97-404b-a2ba-2e39ce5e6a87",
   "metadata": {},
   "outputs": [
    {
     "data": {
      "image/png": "[encoded data removed]",
      "text/plain": [
       "<Figure size 640x480 with 1 Axes>"
      ]
     },
     "metadata": {},
     "output_type": "display_data"
    }
   ],
   "source": [
    "df['loan_status'].value_counts().plot(kind='bar')\n",
    "plt.xlabel('Loan Status (0: Not Approved, 1: Approved)')\n",
    "plt.ylabel('Count')\n",
    "plt.title('Distribution of Loan Status')\n",
    "plt.xticks(rotation=0)  # x-tick etiketlerini dikey gösterir\n",
    "plt.show()"
   ]
  },
  {
   "cell_type": "code",
   "execution_count": 25,
   "id": "e934a353-b1c2-47e3-96af-cc6995aa2b91",
   "metadata": {},
   "outputs": [
    {
     "data": {
      "text/plain": [
       "(58645, 13)"
      ]
     },
     "execution_count": 25,
     "metadata": {},
     "output_type": "execute_result"
    }
   ],
   "source": [
    "df.shape"
   ]
  },
  {
   "cell_type": "code",
   "execution_count": 27,
   "id": "7f5f1747-3efd-4d45-8fd5-29b7e0d05775",
   "metadata": {},
   "outputs": [
    {
     "data": {
      "image/png": "[encoded data removed]",
      "text/plain": [
       "<Figure size 640x480 with 1 Axes>"
      ]
     },
     "metadata": {},
     "output_type": "display_data"
    }
   ],
   "source": [
    "df['age_group'] = pd.cut(df['person_age'], bins=[18,25,35,50,70], labels=['18-25','26-35','36-50','51-70'])\n",
    "sns.barplot(x='age_group', y='loan_status', data=df)\n",
    "plt.xlabel('Age Group')\n",
    "plt.ylabel('Approval Rate')\n",
    "plt.title('Loan Approval Rate by Age Group')\n",
    "plt.show()"
   ]
  },
  {
   "cell_type": "code",
   "execution_count": 29,
   "id": "d48223b6-cd1a-4d11-b416-3bf01fd9edb7",
   "metadata": {},
   "outputs": [
    {
     "data": {
      "image/png": "[encoded data removed]",
      "text/plain": [
       "<Figure size 640x480 with 1 Axes>"
      ]
     },
     "metadata": {},
     "output_type": "display_data"
    }
   ],
   "source": [
    "sns.boxplot(x='loan_status', y='person_income', data=df)\n",
    "plt.xlabel('Loan Status')\n",
    "plt.ylabel('Applicant Income')\n",
    "plt.title('Applicant Income vs. Loan Status')\n",
    "plt.show()"
   ]
  },
  {
   "cell_type": "code",
   "execution_count": 31,
   "id": "25b30eff-2363-4e7e-b550-f85ee015002e",
   "metadata": {},
   "outputs": [
    {
     "data": {
      "text/plain": [
       "id                            0\n",
       "person_age                    0\n",
       "person_income                 0\n",
       "person_home_ownership         0\n",
       "person_emp_length             0\n",
       "loan_intent                   0\n",
       "loan_grade                    0\n",
       "loan_amnt                     0\n",
       "loan_int_rate                 0\n",
       "loan_percent_income           0\n",
       "cb_person_default_on_file     0\n",
       "cb_person_cred_hist_length    0\n",
       "loan_status                   0\n",
       "age_group                     9\n",
       "dtype: int64"
      ]
     },
     "execution_count": 31,
     "metadata": {},
     "output_type": "execute_result"
    }
   ],
   "source": [
    "df.isnull().sum()"
   ]
  },
  {
   "cell_type": "code",
   "execution_count": 33,
   "id": "fc9704e4-3ce5-4aa1-8cc3-fe549f5894d0",
   "metadata": {},
   "outputs": [
    {
     "data": {
      "image/png": "[encoded data removed]",
      "text/plain": [
       "<Figure size 640x480 with 1 Axes>"
      ]
     },
     "metadata": {},
     "output_type": "display_data"
    }
   ],
   "source": [
    "sns.barplot(x='person_home_ownership', y='loan_status', data=df)\n",
    "plt.xlabel('Home Ownership')\n",
    "plt.ylabel('Approval Rate')\n",
    "plt.title('Loan Approval Rate by Home Ownership Type')\n",
    "plt.show()"
   ]
  },
  {
   "cell_type": "code",
   "execution_count": 35,
   "id": "2eb480bd-edf5-4a4f-97ee-1aa0968af9be",
   "metadata": {},
   "outputs": [
    {
     "data": {
      "text/html": [
       "<div>\n",
       "<style scoped>\n",
       "    .dataframe tbody tr th:only-of-type {\n",
       "        vertical-align: middle;\n",
       "    }\n",
       "\n",
       "    .dataframe tbody tr th {\n",
       "        vertical-align: top;\n",
       "    }\n",
       "\n",
       "    .dataframe thead th {\n",
       "        text-align: right;\n",
       "    }\n",
       "</style>\n",
       "<table border=\"1\" class=\"dataframe\">\n",
       "  <thead>\n",
       "    <tr style=\"text-align: right;\">\n",
       "      <th></th>\n",
       "      <th>id</th>\n",
       "      <th>person_age</th>\n",
       "      <th>person_income</th>\n",
       "      <th>person_emp_length</th>\n",
       "      <th>loan_amnt</th>\n",
       "      <th>loan_int_rate</th>\n",
       "      <th>loan_percent_income</th>\n",
       "      <th>cb_person_cred_hist_length</th>\n",
       "      <th>loan_status</th>\n",
       "    </tr>\n",
       "  </thead>\n",
       "  <tbody>\n",
       "    <tr>\n",
       "      <th>count</th>\n",
       "      <td>58645.000000</td>\n",
       "      <td>58645.000000</td>\n",
       "      <td>5.864500e+04</td>\n",
       "      <td>58645.000000</td>\n",
       "      <td>58645.000000</td>\n",
       "      <td>58645.000000</td>\n",
       "      <td>58645.000000</td>\n",
       "      <td>58645.000000</td>\n",
       "      <td>58645.000000</td>\n",
       "    </tr>\n",
       "    <tr>\n",
       "      <th>mean</th>\n",
       "      <td>29322.000000</td>\n",
       "      <td>27.550857</td>\n",
       "      <td>6.404617e+04</td>\n",
       "      <td>4.701015</td>\n",
       "      <td>9217.556518</td>\n",
       "      <td>10.677874</td>\n",
       "      <td>0.159238</td>\n",
       "      <td>5.813556</td>\n",
       "      <td>0.142382</td>\n",
       "    </tr>\n",
       "    <tr>\n",
       "      <th>std</th>\n",
       "      <td>16929.497605</td>\n",
       "      <td>6.033216</td>\n",
       "      <td>3.793111e+04</td>\n",
       "      <td>3.959784</td>\n",
       "      <td>5563.807384</td>\n",
       "      <td>3.034697</td>\n",
       "      <td>0.091692</td>\n",
       "      <td>4.029196</td>\n",
       "      <td>0.349445</td>\n",
       "    </tr>\n",
       "    <tr>\n",
       "      <th>min</th>\n",
       "      <td>0.000000</td>\n",
       "      <td>20.000000</td>\n",
       "      <td>4.200000e+03</td>\n",
       "      <td>0.000000</td>\n",
       "      <td>500.000000</td>\n",
       "      <td>5.420000</td>\n",
       "      <td>0.000000</td>\n",
       "      <td>2.000000</td>\n",
       "      <td>0.000000</td>\n",
       "    </tr>\n",
       "    <tr>\n",
       "      <th>25%</th>\n",
       "      <td>14661.000000</td>\n",
       "      <td>23.000000</td>\n",
       "      <td>4.200000e+04</td>\n",
       "      <td>2.000000</td>\n",
       "      <td>5000.000000</td>\n",
       "      <td>7.880000</td>\n",
       "      <td>0.090000</td>\n",
       "      <td>3.000000</td>\n",
       "      <td>0.000000</td>\n",
       "    </tr>\n",
       "    <tr>\n",
       "      <th>50%</th>\n",
       "      <td>29322.000000</td>\n",
       "      <td>26.000000</td>\n",
       "      <td>5.800000e+04</td>\n",
       "      <td>4.000000</td>\n",
       "      <td>8000.000000</td>\n",
       "      <td>10.750000</td>\n",
       "      <td>0.140000</td>\n",
       "      <td>4.000000</td>\n",
       "      <td>0.000000</td>\n",
       "    </tr>\n",
       "    <tr>\n",
       "      <th>75%</th>\n",
       "      <td>43983.000000</td>\n",
       "      <td>30.000000</td>\n",
       "      <td>7.560000e+04</td>\n",
       "      <td>7.000000</td>\n",
       "      <td>12000.000000</td>\n",
       "      <td>12.990000</td>\n",
       "      <td>0.210000</td>\n",
       "      <td>8.000000</td>\n",
       "      <td>0.000000</td>\n",
       "    </tr>\n",
       "    <tr>\n",
       "      <th>max</th>\n",
       "      <td>58644.000000</td>\n",
       "      <td>123.000000</td>\n",
       "      <td>1.900000e+06</td>\n",
       "      <td>123.000000</td>\n",
       "      <td>35000.000000</td>\n",
       "      <td>23.220000</td>\n",
       "      <td>0.830000</td>\n",
       "      <td>30.000000</td>\n",
       "      <td>1.000000</td>\n",
       "    </tr>\n",
       "  </tbody>\n",
       "</table>\n",
       "</div>"
      ],
      "text/plain": [
       "                 id    person_age  person_income  person_emp_length  \\\n",
       "count  58645.000000  58645.000000   5.864500e+04       58645.000000   \n",
       "mean   29322.000000     27.550857   6.404617e+04           4.701015   \n",
       "std    16929.497605      6.033216   3.793111e+04           3.959784   \n",
       "min        0.000000     20.000000   4.200000e+03           0.000000   \n",
       "25%    14661.000000     23.000000   4.200000e+04           2.000000   \n",
       "50%    29322.000000     26.000000   5.800000e+04           4.000000   \n",
       "75%    43983.000000     30.000000   7.560000e+04           7.000000   \n",
       "max    58644.000000    123.000000   1.900000e+06         123.000000   \n",
       "\n",
       "          loan_amnt  loan_int_rate  loan_percent_income  \\\n",
       "count  58645.000000   58645.000000         58645.000000   \n",
       "mean    9217.556518      10.677874             0.159238   \n",
       "std     5563.807384       3.034697             0.091692   \n",
       "min      500.000000       5.420000             0.000000   \n",
       "25%     5000.000000       7.880000             0.090000   \n",
       "50%     8000.000000      10.750000             0.140000   \n",
       "75%    12000.000000      12.990000             0.210000   \n",
       "max    35000.000000      23.220000             0.830000   \n",
       "\n",
       "       cb_person_cred_hist_length   loan_status  \n",
       "count                58645.000000  58645.000000  \n",
       "mean                     5.813556      0.142382  \n",
       "std                      4.029196      0.349445  \n",
       "min                      2.000000      0.000000  \n",
       "25%                      3.000000      0.000000  \n",
       "50%                      4.000000      0.000000  \n",
       "75%                      8.000000      0.000000  \n",
       "max                     30.000000      1.000000  "
      ]
     },
     "execution_count": 35,
     "metadata": {},
     "output_type": "execute_result"
    }
   ],
   "source": [
    "df.describe()"
   ]
  },
  {
   "cell_type": "code",
   "execution_count": 39,
   "id": "d7578dae-811b-4dcc-b4e9-b5140f926060",
   "metadata": {},
   "outputs": [
    {
     "data": {
      "image/png": "[encoded data removed]",
      "text/plain": [
       "<Figure size 1200x600 with 1 Axes>"
      ]
     },
     "metadata": {},
     "output_type": "display_data"
    }
   ],
   "source": [
    "plt.figure(figsize=(12,6))\n",
    "sns.barplot(x='loan_intent', y='loan_status', data=df)\n",
    "plt.xlabel('Loan Intent')\n",
    "plt.ylabel('Approval Rate')\n",
    "plt.title('Loan Approval Rate by Intent')\n",
    "plt.show()"
   ]
  },
  {
   "cell_type": "code",
   "execution_count": 43,
   "id": "9a9ff3cf-b5a4-428e-8591-0433b97f4d9e",
   "metadata": {},
   "outputs": [
    {
     "data": {
      "text/html": [
       "<div>\n",
       "<style scoped>\n",
       "    .dataframe tbody tr th:only-of-type {\n",
       "        vertical-align: middle;\n",
       "    }\n",
       "\n",
       "    .dataframe tbody tr th {\n",
       "        vertical-align: top;\n",
       "    }\n",
       "\n",
       "    .dataframe thead th {\n",
       "        text-align: right;\n",
       "    }\n",
       "</style>\n",
       "<table border=\"1\" class=\"dataframe\">\n",
       "  <thead>\n",
       "    <tr style=\"text-align: right;\">\n",
       "      <th></th>\n",
       "      <th>id</th>\n",
       "      <th>person_age</th>\n",
       "      <th>person_income</th>\n",
       "      <th>person_home_ownership</th>\n",
       "      <th>person_emp_length</th>\n",
       "      <th>loan_intent</th>\n",
       "      <th>loan_grade</th>\n",
       "      <th>loan_amnt</th>\n",
       "      <th>loan_int_rate</th>\n",
       "      <th>loan_percent_income</th>\n",
       "      <th>cb_person_default_on_file</th>\n",
       "      <th>cb_person_cred_hist_length</th>\n",
       "      <th>loan_status</th>\n",
       "      <th>age_group</th>\n",
       "    </tr>\n",
       "  </thead>\n",
       "  <tbody>\n",
       "    <tr>\n",
       "      <th>1314</th>\n",
       "      <td>1314</td>\n",
       "      <td>22</td>\n",
       "      <td>62400</td>\n",
       "      <td>RENT</td>\n",
       "      <td>4.0</td>\n",
       "      <td>EDUCATION</td>\n",
       "      <td>A</td>\n",
       "      <td>12000</td>\n",
       "      <td>7.49</td>\n",
       "      <td>0.19</td>\n",
       "      <td>N</td>\n",
       "      <td>2</td>\n",
       "      <td>0</td>\n",
       "      <td>18-25</td>\n",
       "    </tr>\n",
       "  </tbody>\n",
       "</table>\n",
       "</div>"
      ],
      "text/plain": [
       "        id  person_age  person_income person_home_ownership  \\\n",
       "1314  1314          22          62400                  RENT   \n",
       "\n",
       "      person_emp_length loan_intent loan_grade  loan_amnt  loan_int_rate  \\\n",
       "1314                4.0   EDUCATION          A      12000           7.49   \n",
       "\n",
       "      loan_percent_income cb_person_default_on_file  \\\n",
       "1314                 0.19                         N   \n",
       "\n",
       "      cb_person_cred_hist_length  loan_status age_group  \n",
       "1314                           2            0     18-25  "
      ]
     },
     "execution_count": 43,
     "metadata": {},
     "output_type": "execute_result"
    }
   ],
   "source": [
    "df.sample()"
   ]
  },
  {
   "cell_type": "code",
   "execution_count": 45,
   "id": "1697470e-f326-424b-a475-bf1d3fff39d6",
   "metadata": {},
   "outputs": [
    {
     "data": {
      "text/html": [
       "<div>\n",
       "<style scoped>\n",
       "    .dataframe tbody tr th:only-of-type {\n",
       "        vertical-align: middle;\n",
       "    }\n",
       "\n",
       "    .dataframe tbody tr th {\n",
       "        vertical-align: top;\n",
       "    }\n",
       "\n",
       "    .dataframe thead th {\n",
       "        text-align: right;\n",
       "    }\n",
       "</style>\n",
       "<table border=\"1\" class=\"dataframe\">\n",
       "  <thead>\n",
       "    <tr style=\"text-align: right;\">\n",
       "      <th></th>\n",
       "      <th>id</th>\n",
       "      <th>person_age</th>\n",
       "      <th>person_income</th>\n",
       "      <th>person_emp_length</th>\n",
       "      <th>loan_amnt</th>\n",
       "      <th>loan_int_rate</th>\n",
       "      <th>loan_percent_income</th>\n",
       "      <th>cb_person_cred_hist_length</th>\n",
       "      <th>loan_status</th>\n",
       "    </tr>\n",
       "  </thead>\n",
       "  <tbody>\n",
       "    <tr>\n",
       "      <th>id</th>\n",
       "      <td>1.000000</td>\n",
       "      <td>0.008608</td>\n",
       "      <td>-0.001896</td>\n",
       "      <td>0.005376</td>\n",
       "      <td>-0.000403</td>\n",
       "      <td>-0.003454</td>\n",
       "      <td>-0.002677</td>\n",
       "      <td>0.008139</td>\n",
       "      <td>-0.008138</td>\n",
       "    </tr>\n",
       "    <tr>\n",
       "      <th>person_age</th>\n",
       "      <td>0.008608</td>\n",
       "      <td>1.000000</td>\n",
       "      <td>0.102176</td>\n",
       "      <td>0.121276</td>\n",
       "      <td>0.050378</td>\n",
       "      <td>0.009653</td>\n",
       "      <td>-0.031975</td>\n",
       "      <td>0.874260</td>\n",
       "      <td>-0.001130</td>\n",
       "    </tr>\n",
       "    <tr>\n",
       "      <th>person_income</th>\n",
       "      <td>-0.001896</td>\n",
       "      <td>0.102176</td>\n",
       "      <td>1.000000</td>\n",
       "      <td>0.164042</td>\n",
       "      <td>0.310942</td>\n",
       "      <td>-0.057611</td>\n",
       "      <td>-0.280314</td>\n",
       "      <td>0.082727</td>\n",
       "      <td>-0.169956</td>\n",
       "    </tr>\n",
       "    <tr>\n",
       "      <th>person_emp_length</th>\n",
       "      <td>0.005376</td>\n",
       "      <td>0.121276</td>\n",
       "      <td>0.164042</td>\n",
       "      <td>1.000000</td>\n",
       "      <td>0.092046</td>\n",
       "      <td>-0.101910</td>\n",
       "      <td>-0.065824</td>\n",
       "      <td>0.102842</td>\n",
       "      <td>-0.100428</td>\n",
       "    </tr>\n",
       "    <tr>\n",
       "      <th>loan_amnt</th>\n",
       "      <td>-0.000403</td>\n",
       "      <td>0.050378</td>\n",
       "      <td>0.310942</td>\n",
       "      <td>0.092046</td>\n",
       "      <td>1.000000</td>\n",
       "      <td>0.113582</td>\n",
       "      <td>0.647266</td>\n",
       "      <td>0.045720</td>\n",
       "      <td>0.144982</td>\n",
       "    </tr>\n",
       "    <tr>\n",
       "      <th>loan_int_rate</th>\n",
       "      <td>-0.003454</td>\n",
       "      <td>0.009653</td>\n",
       "      <td>-0.057611</td>\n",
       "      <td>-0.101910</td>\n",
       "      <td>0.113582</td>\n",
       "      <td>1.000000</td>\n",
       "      <td>0.152201</td>\n",
       "      <td>0.007535</td>\n",
       "      <td>0.338948</td>\n",
       "    </tr>\n",
       "    <tr>\n",
       "      <th>loan_percent_income</th>\n",
       "      <td>-0.002677</td>\n",
       "      <td>-0.031975</td>\n",
       "      <td>-0.280314</td>\n",
       "      <td>-0.065824</td>\n",
       "      <td>0.647266</td>\n",
       "      <td>0.152201</td>\n",
       "      <td>1.000000</td>\n",
       "      <td>-0.023202</td>\n",
       "      <td>0.378280</td>\n",
       "    </tr>\n",
       "    <tr>\n",
       "      <th>cb_person_cred_hist_length</th>\n",
       "      <td>0.008139</td>\n",
       "      <td>0.874260</td>\n",
       "      <td>0.082727</td>\n",
       "      <td>0.102842</td>\n",
       "      <td>0.045720</td>\n",
       "      <td>0.007535</td>\n",
       "      <td>-0.023202</td>\n",
       "      <td>1.000000</td>\n",
       "      <td>-0.003030</td>\n",
       "    </tr>\n",
       "    <tr>\n",
       "      <th>loan_status</th>\n",
       "      <td>-0.008138</td>\n",
       "      <td>-0.001130</td>\n",
       "      <td>-0.169956</td>\n",
       "      <td>-0.100428</td>\n",
       "      <td>0.144982</td>\n",
       "      <td>0.338948</td>\n",
       "      <td>0.378280</td>\n",
       "      <td>-0.003030</td>\n",
       "      <td>1.000000</td>\n",
       "    </tr>\n",
       "  </tbody>\n",
       "</table>\n",
       "</div>"
      ],
      "text/plain": [
       "                                  id  person_age  person_income  \\\n",
       "id                          1.000000    0.008608      -0.001896   \n",
       "person_age                  0.008608    1.000000       0.102176   \n",
       "person_income              -0.001896    0.102176       1.000000   \n",
       "person_emp_length           0.005376    0.121276       0.164042   \n",
       "loan_amnt                  -0.000403    0.050378       0.310942   \n",
       "loan_int_rate              -0.003454    0.009653      -0.057611   \n",
       "loan_percent_income        -0.002677   -0.031975      -0.280314   \n",
       "cb_person_cred_hist_length  0.008139    0.874260       0.082727   \n",
       "loan_status                -0.008138   -0.001130      -0.169956   \n",
       "\n",
       "                            person_emp_length  loan_amnt  loan_int_rate  \\\n",
       "id                                   0.005376  -0.000403      -0.003454   \n",
       "person_age                           0.121276   0.050378       0.009653   \n",
       "person_income                        0.164042   0.310942      -0.057611   \n",
       "person_emp_length                    1.000000   0.092046      -0.101910   \n",
       "loan_amnt                            0.092046   1.000000       0.113582   \n",
       "loan_int_rate                       -0.101910   0.113582       1.000000   \n",
       "loan_percent_income                 -0.065824   0.647266       0.152201   \n",
       "cb_person_cred_hist_length           0.102842   0.045720       0.007535   \n",
       "loan_status                         -0.100428   0.144982       0.338948   \n",
       "\n",
       "                            loan_percent_income  cb_person_cred_hist_length  \\\n",
       "id                                    -0.002677                    0.008139   \n",
       "person_age                            -0.031975                    0.874260   \n",
       "person_income                         -0.280314                    0.082727   \n",
       "person_emp_length                     -0.065824                    0.102842   \n",
       "loan_amnt                              0.647266                    0.045720   \n",
       "loan_int_rate                          0.152201                    0.007535   \n",
       "loan_percent_income                    1.000000                   -0.023202   \n",
       "cb_person_cred_hist_length            -0.023202                    1.000000   \n",
       "loan_status                            0.378280                   -0.003030   \n",
       "\n",
       "                            loan_status  \n",
       "id                            -0.008138  \n",
       "person_age                    -0.001130  \n",
       "person_income                 -0.169956  \n",
       "person_emp_length             -0.100428  \n",
       "loan_amnt                      0.144982  \n",
       "loan_int_rate                  0.338948  \n",
       "loan_percent_income            0.378280  \n",
       "cb_person_cred_hist_length    -0.003030  \n",
       "loan_status                    1.000000  "
      ]
     },
     "execution_count": 45,
     "metadata": {},
     "output_type": "execute_result"
    }
   ],
   "source": [
    "df.corr(numeric_only=True)"
   ]
  },
  {
   "cell_type": "code",
   "execution_count": 55,
   "id": "c1b34144-6cb1-42f9-b0fb-8a5352afcc5c",
   "metadata": {},
   "outputs": [
    {
     "data": {
      "text/plain": [
       "<Axes: >"
      ]
     },
     "execution_count": 55,
     "metadata": {},
     "output_type": "execute_result"
    },
    {
     "data": {
      "image/png": "[encoded data removed]",
      "text/plain": [
       "<Figure size 800x600 with 2 Axes>"
      ]
     },
     "metadata": {},
     "output_type": "display_data"
    }
   ],
   "source": [
    "plt.figure(figsize=(8,6))\n",
    "sns.heatmap(df.corr(numeric_only=True), annot=True, cmap='tab10')"
   ]
  },
  {
   "cell_type": "code",
   "execution_count": 57,
   "id": "af9a3754-59a8-4ab0-a30c-2ae7e5926d9e",
   "metadata": {},
   "outputs": [
    {
     "name": "stdout",
     "output_type": "stream",
     "text": [
      "<class 'pandas.core.frame.DataFrame'>\n",
      "RangeIndex: 58645 entries, 0 to 58644\n",
      "Data columns (total 14 columns):\n",
      " #   Column                      Non-Null Count  Dtype   \n",
      "---  ------                      --------------  -----   \n",
      " 0   id                          58645 non-null  int64   \n",
      " 1   person_age                  58645 non-null  int64   \n",
      " 2   person_income               58645 non-null  int64   \n",
      " 3   person_home_ownership       58645 non-null  object  \n",
      " 4   person_emp_length           58645 non-null  float64 \n",
      " 5   loan_intent                 58645 non-null  object  \n",
      " 6   loan_grade                  58645 non-null  object  \n",
      " 7   loan_amnt                   58645 non-null  int64   \n",
      " 8   loan_int_rate               58645 non-null  float64 \n",
      " 9   loan_percent_income         58645 non-null  float64 \n",
      " 10  cb_person_default_on_file   58645 non-null  object  \n",
      " 11  cb_person_cred_hist_length  58645 non-null  int64   \n",
      " 12  loan_status                 58645 non-null  int64   \n",
      " 13  age_group                   58636 non-null  category\n",
      "dtypes: category(1), float64(3), int64(6), object(4)\n",
      "memory usage: 5.9+ MB\n"
     ]
    }
   ],
   "source": [
    "df.info()"
   ]
  },
  {
   "cell_type": "markdown",
   "id": "06e33d5c-10c3-41bd-9ed5-779be7e1d71d",
   "metadata": {},
   "source": [
    "### Ev Sahipliği Durumunun Sayısal Olarak Kodlanması\n",
    "\n",
    "Kategorik olarak bulunan `person_home_ownership` (ev sahipliği durumu) değişkeni, modelleme için önem derecesine göre sayısal değerlere dönüştürülür.  \n",
    "Burada 'OWN' en yüksek, 'OTHER' ise en düşük değeri alır. Yeni oluşturulan `person_home_ownership_encoded` sütunu, bu kodlanmış değerleri içerir.  \n",
    "Bu dönüşüm sayesinde modelin kategorik verilerle daha etkili çalışması sağlanır.\n"
   ]
  },
  {
   "cell_type": "code",
   "execution_count": 61,
   "id": "ad7807e7-d32a-40d2-9d49-2476520d4e40",
   "metadata": {},
   "outputs": [
    {
     "data": {
      "text/plain": [
       "person_home_ownership\n",
       "RENT        30594\n",
       "MORTGAGE    24824\n",
       "OWN          3138\n",
       "OTHER          89\n",
       "Name: count, dtype: int64"
      ]
     },
     "execution_count": 61,
     "metadata": {},
     "output_type": "execute_result"
    }
   ],
   "source": [
    "df['person_home_ownership'].value_counts()"
   ]
  },
  {
   "cell_type": "code",
   "execution_count": 71,
   "id": "22dabf5d-72eb-43af-a2da-84b4cc919206",
   "metadata": {},
   "outputs": [],
   "source": [
    "mapping = {\n",
    "    'OWN': 3,         # en yüksek önem\n",
    "    'MORTGAGE': 2,\n",
    "    'RENT': 1,\n",
    "    'OTHER': 0        # en az önem\n",
    "}\n",
    "\n",
    "df['person_home_ownership_encoded'] = df['person_home_ownership'].map(mapping)"
   ]
  },
  {
   "cell_type": "code",
   "execution_count": 73,
   "id": "f376adb8-1e96-4d31-bfe5-340e81bdecc3",
   "metadata": {},
   "outputs": [
    {
     "data": {
      "text/html": [
       "<div>\n",
       "<style scoped>\n",
       "    .dataframe tbody tr th:only-of-type {\n",
       "        vertical-align: middle;\n",
       "    }\n",
       "\n",
       "    .dataframe tbody tr th {\n",
       "        vertical-align: top;\n",
       "    }\n",
       "\n",
       "    .dataframe thead th {\n",
       "        text-align: right;\n",
       "    }\n",
       "</style>\n",
       "<table border=\"1\" class=\"dataframe\">\n",
       "  <thead>\n",
       "    <tr style=\"text-align: right;\">\n",
       "      <th></th>\n",
       "      <th>id</th>\n",
       "      <th>person_age</th>\n",
       "      <th>person_income</th>\n",
       "      <th>person_home_ownership</th>\n",
       "      <th>person_emp_length</th>\n",
       "      <th>loan_intent</th>\n",
       "      <th>loan_grade</th>\n",
       "      <th>loan_amnt</th>\n",
       "      <th>loan_int_rate</th>\n",
       "      <th>loan_percent_income</th>\n",
       "      <th>cb_person_default_on_file</th>\n",
       "      <th>cb_person_cred_hist_length</th>\n",
       "      <th>loan_status</th>\n",
       "      <th>age_group</th>\n",
       "      <th>person_home_ownership_encoded</th>\n",
       "    </tr>\n",
       "  </thead>\n",
       "  <tbody>\n",
       "    <tr>\n",
       "      <th>54984</th>\n",
       "      <td>54984</td>\n",
       "      <td>27</td>\n",
       "      <td>67200</td>\n",
       "      <td>MORTGAGE</td>\n",
       "      <td>2.0</td>\n",
       "      <td>HOMEIMPROVEMENT</td>\n",
       "      <td>A</td>\n",
       "      <td>5000</td>\n",
       "      <td>6.03</td>\n",
       "      <td>0.07</td>\n",
       "      <td>N</td>\n",
       "      <td>10</td>\n",
       "      <td>0</td>\n",
       "      <td>26-35</td>\n",
       "      <td>2</td>\n",
       "    </tr>\n",
       "  </tbody>\n",
       "</table>\n",
       "</div>"
      ],
      "text/plain": [
       "          id  person_age  person_income person_home_ownership  \\\n",
       "54984  54984          27          67200              MORTGAGE   \n",
       "\n",
       "       person_emp_length      loan_intent loan_grade  loan_amnt  \\\n",
       "54984                2.0  HOMEIMPROVEMENT          A       5000   \n",
       "\n",
       "       loan_int_rate  loan_percent_income cb_person_default_on_file  \\\n",
       "54984           6.03                 0.07                         N   \n",
       "\n",
       "       cb_person_cred_hist_length  loan_status age_group  \\\n",
       "54984                          10            0     26-35   \n",
       "\n",
       "       person_home_ownership_encoded  \n",
       "54984                              2  "
      ]
     },
     "execution_count": 73,
     "metadata": {},
     "output_type": "execute_result"
    }
   ],
   "source": [
    "df.sample()"
   ]
  },
  {
   "cell_type": "markdown",
   "id": "ba4a3379-bf25-4928-aca4-eef94e21eca0",
   "metadata": {},
   "source": [
    "### Kredi Amacının Onay Zorluğuna Göre Sayısal Olarak Kodlanması\n",
    "\n",
    "Veride yer alan `loan_intent` (kredi amacı) kategorik değişkeni, bankaların onay verme eğilimlerine göre zorluk seviyeleriyle sayısal olarak kodlanır.  \n",
    "Burada, eğitim kredileri en kolay onaylanırken; girişimcilik ve kişisel krediler en zor onaylanan kredi türleri olarak daha yüksek değerler alır.  \n",
    "Oluşan yeni sütun (`loan_intent_approval_difficulty`), kredi amacının onaylanma zorluğunu modellemeye uygun hale getirir."
   ]
  },
  {
   "cell_type": "code",
   "execution_count": 63,
   "id": "8b027d17-b451-4a13-8a59-dd3ad5dc4e1c",
   "metadata": {},
   "outputs": [
    {
     "data": {
      "text/plain": [
       "loan_intent\n",
       "EDUCATION            12271\n",
       "MEDICAL              10934\n",
       "PERSONAL             10016\n",
       "VENTURE              10011\n",
       "DEBTCONSOLIDATION     9133\n",
       "HOMEIMPROVEMENT       6280\n",
       "Name: count, dtype: int64"
      ]
     },
     "execution_count": 63,
     "metadata": {},
     "output_type": "execute_result"
    }
   ],
   "source": [
    "df['loan_intent'].value_counts()"
   ]
  },
  {
   "cell_type": "code",
   "execution_count": 75,
   "id": "afe8a7e0-6e69-40d4-96a9-20363dbf82b8",
   "metadata": {},
   "outputs": [],
   "source": [
    "approval_mapping = {\n",
    "    'EDUCATION': 0,            # eğitim kredileri genellikle en kolay onaylanır\n",
    "    'DEBTCONSOLIDATION': 1,    # borç kapama kredileri bankalarca daha kabul edilebilir\n",
    "    'HOMEIMPROVEMENT': 2,      # ev iyileştirme, sahiplik varsa güvenli\n",
    "    'MEDICAL': 3,              # sağlık için riskli durumlar olabilir\n",
    "    'PERSONAL': 4,             # amacı belli olmayan, öngörülemez harcamalar\n",
    "    'VENTURE': 5               # iş kurma/girişimcilik, en zor onaylanan\n",
    "}\n",
    "df['loan_intent_approval_difficulty'] = df['loan_intent'].map(approval_mapping)"
   ]
  },
  {
   "cell_type": "code",
   "execution_count": 77,
   "id": "a849fec3-083e-43a5-b170-02b9e217ef64",
   "metadata": {},
   "outputs": [
    {
     "data": {
      "text/html": [
       "<div>\n",
       "<style scoped>\n",
       "    .dataframe tbody tr th:only-of-type {\n",
       "        vertical-align: middle;\n",
       "    }\n",
       "\n",
       "    .dataframe tbody tr th {\n",
       "        vertical-align: top;\n",
       "    }\n",
       "\n",
       "    .dataframe thead th {\n",
       "        text-align: right;\n",
       "    }\n",
       "</style>\n",
       "<table border=\"1\" class=\"dataframe\">\n",
       "  <thead>\n",
       "    <tr style=\"text-align: right;\">\n",
       "      <th></th>\n",
       "      <th>id</th>\n",
       "      <th>person_age</th>\n",
       "      <th>person_income</th>\n",
       "      <th>person_home_ownership</th>\n",
       "      <th>person_emp_length</th>\n",
       "      <th>loan_intent</th>\n",
       "      <th>loan_grade</th>\n",
       "      <th>loan_amnt</th>\n",
       "      <th>loan_int_rate</th>\n",
       "      <th>loan_percent_income</th>\n",
       "      <th>cb_person_default_on_file</th>\n",
       "      <th>cb_person_cred_hist_length</th>\n",
       "      <th>loan_status</th>\n",
       "      <th>age_group</th>\n",
       "      <th>person_home_ownership_encoded</th>\n",
       "      <th>loan_intent_approval_difficulty</th>\n",
       "    </tr>\n",
       "  </thead>\n",
       "  <tbody>\n",
       "    <tr>\n",
       "      <th>5950</th>\n",
       "      <td>5950</td>\n",
       "      <td>29</td>\n",
       "      <td>80000</td>\n",
       "      <td>MORTGAGE</td>\n",
       "      <td>5.0</td>\n",
       "      <td>DEBTCONSOLIDATION</td>\n",
       "      <td>B</td>\n",
       "      <td>24000</td>\n",
       "      <td>11.49</td>\n",
       "      <td>0.3</td>\n",
       "      <td>N</td>\n",
       "      <td>8</td>\n",
       "      <td>0</td>\n",
       "      <td>26-35</td>\n",
       "      <td>2</td>\n",
       "      <td>1</td>\n",
       "    </tr>\n",
       "  </tbody>\n",
       "</table>\n",
       "</div>"
      ],
      "text/plain": [
       "        id  person_age  person_income person_home_ownership  \\\n",
       "5950  5950          29          80000              MORTGAGE   \n",
       "\n",
       "      person_emp_length        loan_intent loan_grade  loan_amnt  \\\n",
       "5950                5.0  DEBTCONSOLIDATION          B      24000   \n",
       "\n",
       "      loan_int_rate  loan_percent_income cb_person_default_on_file  \\\n",
       "5950          11.49                  0.3                         N   \n",
       "\n",
       "      cb_person_cred_hist_length  loan_status age_group  \\\n",
       "5950                           8            0     26-35   \n",
       "\n",
       "      person_home_ownership_encoded  loan_intent_approval_difficulty  \n",
       "5950                              2                                1  "
      ]
     },
     "execution_count": 77,
     "metadata": {},
     "output_type": "execute_result"
    }
   ],
   "source": [
    "df.sample()"
   ]
  },
  {
   "cell_type": "markdown",
   "id": "31d2ee3c-d56c-45a6-be9c-5c31c270ce0a",
   "metadata": {},
   "source": [
    "### Kredi Notunun Sayısal Olarak Kodlanması\n",
    "\n",
    "`loan_grade` sütunundaki harflerle gösterilen kredi notu, modelleme için artan şekilde sayısal değerlere dönüştürülür.  \n",
    "'A' en yüksek (en güvenilir) kredi notunu, 'G' ise en düşük (en riskli) kredi notunu temsil eder.  \n",
    "Bu dönüşümle birlikte kredi notu model tarafından daha kolay işlenebilir hale gelir.\n"
   ]
  },
  {
   "cell_type": "markdown",
   "id": "0cc9069b-817c-49d6-a6cd-d4be7f864d4d",
   "metadata": {},
   "source": [
    "df['loan_grade'].value_counts()"
   ]
  },
  {
   "cell_type": "code",
   "execution_count": 79,
   "id": "3ecf51bf-dfb4-4743-949c-9e401a31b9eb",
   "metadata": {},
   "outputs": [],
   "source": [
    "grade_mapping = {'A': 0, 'B': 1, 'C': 2, 'D': 3, 'E': 4, 'F': 5, 'G': 6}\n",
    "df['loan_grade_encoded'] = df['loan_grade'].map(grade_mapping)"
   ]
  },
  {
   "cell_type": "code",
   "execution_count": 81,
   "id": "fb0d9549-63e9-458a-bfa7-caa48e9fa032",
   "metadata": {},
   "outputs": [
    {
     "data": {
      "text/html": [
       "<div>\n",
       "<style scoped>\n",
       "    .dataframe tbody tr th:only-of-type {\n",
       "        vertical-align: middle;\n",
       "    }\n",
       "\n",
       "    .dataframe tbody tr th {\n",
       "        vertical-align: top;\n",
       "    }\n",
       "\n",
       "    .dataframe thead th {\n",
       "        text-align: right;\n",
       "    }\n",
       "</style>\n",
       "<table border=\"1\" class=\"dataframe\">\n",
       "  <thead>\n",
       "    <tr style=\"text-align: right;\">\n",
       "      <th></th>\n",
       "      <th>id</th>\n",
       "      <th>person_age</th>\n",
       "      <th>person_income</th>\n",
       "      <th>person_home_ownership</th>\n",
       "      <th>person_emp_length</th>\n",
       "      <th>loan_intent</th>\n",
       "      <th>loan_grade</th>\n",
       "      <th>loan_amnt</th>\n",
       "      <th>loan_int_rate</th>\n",
       "      <th>loan_percent_income</th>\n",
       "      <th>cb_person_default_on_file</th>\n",
       "      <th>cb_person_cred_hist_length</th>\n",
       "      <th>loan_status</th>\n",
       "      <th>age_group</th>\n",
       "      <th>person_home_ownership_encoded</th>\n",
       "      <th>loan_intent_approval_difficulty</th>\n",
       "      <th>loan_grade_encoded</th>\n",
       "    </tr>\n",
       "  </thead>\n",
       "  <tbody>\n",
       "    <tr>\n",
       "      <th>44172</th>\n",
       "      <td>44172</td>\n",
       "      <td>22</td>\n",
       "      <td>60000</td>\n",
       "      <td>MORTGAGE</td>\n",
       "      <td>1.0</td>\n",
       "      <td>EDUCATION</td>\n",
       "      <td>B</td>\n",
       "      <td>4000</td>\n",
       "      <td>10.99</td>\n",
       "      <td>0.07</td>\n",
       "      <td>N</td>\n",
       "      <td>4</td>\n",
       "      <td>0</td>\n",
       "      <td>18-25</td>\n",
       "      <td>2</td>\n",
       "      <td>0</td>\n",
       "      <td>1</td>\n",
       "    </tr>\n",
       "  </tbody>\n",
       "</table>\n",
       "</div>"
      ],
      "text/plain": [
       "          id  person_age  person_income person_home_ownership  \\\n",
       "44172  44172          22          60000              MORTGAGE   \n",
       "\n",
       "       person_emp_length loan_intent loan_grade  loan_amnt  loan_int_rate  \\\n",
       "44172                1.0   EDUCATION          B       4000          10.99   \n",
       "\n",
       "       loan_percent_income cb_person_default_on_file  \\\n",
       "44172                 0.07                         N   \n",
       "\n",
       "       cb_person_cred_hist_length  loan_status age_group  \\\n",
       "44172                           4            0     18-25   \n",
       "\n",
       "       person_home_ownership_encoded  loan_intent_approval_difficulty  \\\n",
       "44172                              2                                0   \n",
       "\n",
       "       loan_grade_encoded  \n",
       "44172                   1  "
      ]
     },
     "execution_count": 81,
     "metadata": {},
     "output_type": "execute_result"
    }
   ],
   "source": [
    "df.sample()"
   ]
  },
  {
   "cell_type": "markdown",
   "id": "828cceff-8d52-4d9f-9e54-fc4ab19865f2",
   "metadata": {},
   "source": [
    "### Kredi Sicilinde Temerrüt Durumunun Kodlanması\n",
    "\n",
    "`cb_person_default_on_file` sütunundaki temerrüt (gecikmiş borç) durumu, sayısal olarak kodlanır.  \n",
    "'N' (temerrüt yok) değeri 0 olarak, 'Y' (temerrüt var) değeri ise 1 olarak atanır.  \n",
    "Bu şekilde, kredi sicilinin risk durumunu gösteren veri modellemeye uygun hale getirilir."
   ]
  },
  {
   "cell_type": "code",
   "execution_count": 67,
   "id": "6d1a5777-5994-48f8-b8bf-cb8fdec8a5b1",
   "metadata": {},
   "outputs": [
    {
     "data": {
      "text/plain": [
       "cb_person_default_on_file\n",
       "N    49943\n",
       "Y     8702\n",
       "Name: count, dtype: int64"
      ]
     },
     "execution_count": 67,
     "metadata": {},
     "output_type": "execute_result"
    }
   ],
   "source": [
    "df['cb_person_default_on_file'].value_counts()"
   ]
  },
  {
   "cell_type": "code",
   "execution_count": 83,
   "id": "8176f77c-5f14-4ade-a714-d7692a9cbd77",
   "metadata": {},
   "outputs": [],
   "source": [
    "default_mapping = {'N': 0, 'Y': 1}\n",
    "df['cb_person_default_on_file_encoded'] = df['cb_person_default_on_file'].map(default_mapping)"
   ]
  },
  {
   "cell_type": "code",
   "execution_count": null,
   "id": "2a75e7f7-692a-466c-b1cc-50c472258537",
   "metadata": {},
   "outputs": [],
   "source": []
  },
  {
   "cell_type": "markdown",
   "id": "eb013faa-c1c5-49d7-841a-47d2365e490a",
   "metadata": {},
   "source": [
    "### Yaş Gruplarının Sayısal Olarak Kodlanması\n",
    "\n",
    "`age_group` sütununda yer alan yaş aralıkları, modelleme için artan şekilde sayısal değerlere dönüştürülür.  \n",
    "Daha genç yaş grupları daha küçük, daha yaşlı gruplar ise daha büyük değerler alır.  \n",
    "Bu dönüşüm sayesinde yaş grubu kategorisi makine öğrenmesi algoritmalarında kullanılabilir hale gelir.\n"
   ]
  },
  {
   "cell_type": "code",
   "execution_count": 69,
   "id": "4a23deaa-493b-4c3e-84d6-6686381655cc",
   "metadata": {},
   "outputs": [
    {
     "data": {
      "text/plain": [
       "age_group\n",
       "18-25    28046\n",
       "26-35    24325\n",
       "36-50     5772\n",
       "51-70      493\n",
       "Name: count, dtype: int64"
      ]
     },
     "execution_count": 69,
     "metadata": {},
     "output_type": "execute_result"
    }
   ],
   "source": [
    "df['age_group'].value_counts()"
   ]
  },
  {
   "cell_type": "code",
   "execution_count": 85,
   "id": "d72237f0-bbc7-4e26-96fd-8eb1e4113e19",
   "metadata": {},
   "outputs": [],
   "source": [
    "age_mapping = {\n",
    "    '18-25': 0,\n",
    "    '26-35': 1,\n",
    "    '36-50': 2,\n",
    "    '51-70': 3\n",
    "}\n",
    "df['age_group_encoded'] = df['age_group'].map(age_mapping)\n"
   ]
  },
  {
   "cell_type": "code",
   "execution_count": 87,
   "id": "9e8c2fca-25b0-42e1-aea8-5691dae02a78",
   "metadata": {},
   "outputs": [
    {
     "data": {
      "text/html": [
       "<div>\n",
       "<style scoped>\n",
       "    .dataframe tbody tr th:only-of-type {\n",
       "        vertical-align: middle;\n",
       "    }\n",
       "\n",
       "    .dataframe tbody tr th {\n",
       "        vertical-align: top;\n",
       "    }\n",
       "\n",
       "    .dataframe thead th {\n",
       "        text-align: right;\n",
       "    }\n",
       "</style>\n",
       "<table border=\"1\" class=\"dataframe\">\n",
       "  <thead>\n",
       "    <tr style=\"text-align: right;\">\n",
       "      <th></th>\n",
       "      <th>id</th>\n",
       "      <th>person_age</th>\n",
       "      <th>person_income</th>\n",
       "      <th>person_home_ownership</th>\n",
       "      <th>person_emp_length</th>\n",
       "      <th>loan_intent</th>\n",
       "      <th>loan_grade</th>\n",
       "      <th>loan_amnt</th>\n",
       "      <th>loan_int_rate</th>\n",
       "      <th>loan_percent_income</th>\n",
       "      <th>cb_person_default_on_file</th>\n",
       "      <th>cb_person_cred_hist_length</th>\n",
       "      <th>loan_status</th>\n",
       "      <th>age_group</th>\n",
       "      <th>person_home_ownership_encoded</th>\n",
       "      <th>loan_intent_approval_difficulty</th>\n",
       "      <th>loan_grade_encoded</th>\n",
       "      <th>cb_person_default_on_file_encoded</th>\n",
       "      <th>age_group_encoded</th>\n",
       "    </tr>\n",
       "  </thead>\n",
       "  <tbody>\n",
       "    <tr>\n",
       "      <th>0</th>\n",
       "      <td>0</td>\n",
       "      <td>37</td>\n",
       "      <td>35000</td>\n",
       "      <td>RENT</td>\n",
       "      <td>0.0</td>\n",
       "      <td>EDUCATION</td>\n",
       "      <td>B</td>\n",
       "      <td>6000</td>\n",
       "      <td>11.49</td>\n",
       "      <td>0.17</td>\n",
       "      <td>N</td>\n",
       "      <td>14</td>\n",
       "      <td>0</td>\n",
       "      <td>36-50</td>\n",
       "      <td>1</td>\n",
       "      <td>0</td>\n",
       "      <td>1</td>\n",
       "      <td>0</td>\n",
       "      <td>2</td>\n",
       "    </tr>\n",
       "    <tr>\n",
       "      <th>1</th>\n",
       "      <td>1</td>\n",
       "      <td>22</td>\n",
       "      <td>56000</td>\n",
       "      <td>OWN</td>\n",
       "      <td>6.0</td>\n",
       "      <td>MEDICAL</td>\n",
       "      <td>C</td>\n",
       "      <td>4000</td>\n",
       "      <td>13.35</td>\n",
       "      <td>0.07</td>\n",
       "      <td>N</td>\n",
       "      <td>2</td>\n",
       "      <td>0</td>\n",
       "      <td>18-25</td>\n",
       "      <td>3</td>\n",
       "      <td>3</td>\n",
       "      <td>2</td>\n",
       "      <td>0</td>\n",
       "      <td>0</td>\n",
       "    </tr>\n",
       "    <tr>\n",
       "      <th>2</th>\n",
       "      <td>2</td>\n",
       "      <td>29</td>\n",
       "      <td>28800</td>\n",
       "      <td>OWN</td>\n",
       "      <td>8.0</td>\n",
       "      <td>PERSONAL</td>\n",
       "      <td>A</td>\n",
       "      <td>6000</td>\n",
       "      <td>8.90</td>\n",
       "      <td>0.21</td>\n",
       "      <td>N</td>\n",
       "      <td>10</td>\n",
       "      <td>0</td>\n",
       "      <td>26-35</td>\n",
       "      <td>3</td>\n",
       "      <td>4</td>\n",
       "      <td>0</td>\n",
       "      <td>0</td>\n",
       "      <td>1</td>\n",
       "    </tr>\n",
       "    <tr>\n",
       "      <th>3</th>\n",
       "      <td>3</td>\n",
       "      <td>30</td>\n",
       "      <td>70000</td>\n",
       "      <td>RENT</td>\n",
       "      <td>14.0</td>\n",
       "      <td>VENTURE</td>\n",
       "      <td>B</td>\n",
       "      <td>12000</td>\n",
       "      <td>11.11</td>\n",
       "      <td>0.17</td>\n",
       "      <td>N</td>\n",
       "      <td>5</td>\n",
       "      <td>0</td>\n",
       "      <td>26-35</td>\n",
       "      <td>1</td>\n",
       "      <td>5</td>\n",
       "      <td>1</td>\n",
       "      <td>0</td>\n",
       "      <td>1</td>\n",
       "    </tr>\n",
       "    <tr>\n",
       "      <th>4</th>\n",
       "      <td>4</td>\n",
       "      <td>22</td>\n",
       "      <td>60000</td>\n",
       "      <td>RENT</td>\n",
       "      <td>2.0</td>\n",
       "      <td>MEDICAL</td>\n",
       "      <td>A</td>\n",
       "      <td>6000</td>\n",
       "      <td>6.92</td>\n",
       "      <td>0.10</td>\n",
       "      <td>N</td>\n",
       "      <td>3</td>\n",
       "      <td>0</td>\n",
       "      <td>18-25</td>\n",
       "      <td>1</td>\n",
       "      <td>3</td>\n",
       "      <td>0</td>\n",
       "      <td>0</td>\n",
       "      <td>0</td>\n",
       "    </tr>\n",
       "  </tbody>\n",
       "</table>\n",
       "</div>"
      ],
      "text/plain": [
       "   id  person_age  person_income person_home_ownership  person_emp_length  \\\n",
       "0   0          37          35000                  RENT                0.0   \n",
       "1   1          22          56000                   OWN                6.0   \n",
       "2   2          29          28800                   OWN                8.0   \n",
       "3   3          30          70000                  RENT               14.0   \n",
       "4   4          22          60000                  RENT                2.0   \n",
       "\n",
       "  loan_intent loan_grade  loan_amnt  loan_int_rate  loan_percent_income  \\\n",
       "0   EDUCATION          B       6000          11.49                 0.17   \n",
       "1     MEDICAL          C       4000          13.35                 0.07   \n",
       "2    PERSONAL          A       6000           8.90                 0.21   \n",
       "3     VENTURE          B      12000          11.11                 0.17   \n",
       "4     MEDICAL          A       6000           6.92                 0.10   \n",
       "\n",
       "  cb_person_default_on_file  cb_person_cred_hist_length  loan_status  \\\n",
       "0                         N                          14            0   \n",
       "1                         N                           2            0   \n",
       "2                         N                          10            0   \n",
       "3                         N                           5            0   \n",
       "4                         N                           3            0   \n",
       "\n",
       "  age_group  person_home_ownership_encoded  loan_intent_approval_difficulty  \\\n",
       "0     36-50                              1                                0   \n",
       "1     18-25                              3                                3   \n",
       "2     26-35                              3                                4   \n",
       "3     26-35                              1                                5   \n",
       "4     18-25                              1                                3   \n",
       "\n",
       "   loan_grade_encoded  cb_person_default_on_file_encoded age_group_encoded  \n",
       "0                   1                                  0                 2  \n",
       "1                   2                                  0                 0  \n",
       "2                   0                                  0                 1  \n",
       "3                   1                                  0                 1  \n",
       "4                   0                                  0                 0  "
      ]
     },
     "execution_count": 87,
     "metadata": {},
     "output_type": "execute_result"
    }
   ],
   "source": [
    "df.head()"
   ]
  },
  {
   "cell_type": "code",
   "execution_count": 91,
   "id": "68f31c18-0af4-465d-86ac-3991310ba609",
   "metadata": {},
   "outputs": [
    {
     "data": {
      "text/plain": [
       "id                                   0.008138\n",
       "person_age                           0.001130\n",
       "person_income                        0.169956\n",
       "person_emp_length                    0.100428\n",
       "loan_amnt                            0.144982\n",
       "loan_int_rate                        0.338948\n",
       "loan_percent_income                  0.378280\n",
       "cb_person_cred_hist_length           0.003030\n",
       "loan_status                          1.000000\n",
       "person_home_ownership_encoded        0.232966\n",
       "loan_intent_approval_difficulty      0.023731\n",
       "loan_grade_encoded                   0.385908\n",
       "cb_person_default_on_file_encoded    0.186962\n",
       "Name: loan_status, dtype: float64"
      ]
     },
     "execution_count": 91,
     "metadata": {},
     "output_type": "execute_result"
    }
   ],
   "source": [
    "abs(df.corr(numeric_only=True))['loan_status']"
   ]
  },
  {
   "cell_type": "markdown",
   "id": "20097007-dd97-4c93-a0f0-388a23322ac0",
   "metadata": {},
   "source": [
    "### Yeni Özelliklerin (Feature) Oluşturulması\n",
    "\n",
    "- **Kredi Miktarının Çalışma Yılına Oranı (`amnt_per_emp_year`)**  \n",
    "  Her bir kişinin toplam işte geçirdiği yıl dikkate alınarak, kullanılan kredi miktarı bu süreye bölünür. Böylece, iş tecrübesine göre alınan kredi miktarı elde edilir. (Bir hata veya sıfıra bölme riskine karşı 1 eklenmiştir.)\n",
    "\n",
    "- **Faiz Oranının Gelire Oranı (`int_income_ratio`)**  \n",
    "  Kişinin yıllık gelirine göre kredi faiz oranı hesaplanır. Bu oran, kişinin gelirine kıyasla ödeyeceği faiz yükünü gösterir. (Sıfıra bölme riskine karşı 1 eklenmiştir.)\n"
   ]
  },
  {
   "cell_type": "code",
   "execution_count": 93,
   "id": "560210bd-0de7-4081-9977-1bcb957e7e46",
   "metadata": {},
   "outputs": [],
   "source": [
    "df['amnt_per_emp_year'] = df['loan_amnt'] / (df['person_emp_length']+1)  # işte geçirilen yıla göre kredi miktarı\n",
    "df['int_income_ratio'] = df['loan_int_rate'] / (df['person_income']+1)   # faiz/giriş geliri oranı"
   ]
  },
  {
   "cell_type": "markdown",
   "id": "4dc47524-222c-47a7-a60e-85af5c656c65",
   "metadata": {},
   "source": [
    "### Kredi Notu ve Temerrüt Bilgisinin Etkileşimi\n",
    "\n",
    "`loan_grade_encoded` ile `cb_person_default_on_file_encoded` sütunları çarpılarak yeni bir özellik oluşturulur.  \n",
    "Bu etkileşim, kredi notu düşük ve aynı zamanda temerrütü olan kişilerin modelde daha net ayırt edilmesini sağlar.  \n",
    "Yani hem kredi notu riskli olan hem de daha önce temerrüte düşmüş kişilere dikkat çekmek amaçlanır."
   ]
  },
  {
   "cell_type": "code",
   "execution_count": 95,
   "id": "859ff506-6658-4676-a6c1-2523b8a7d910",
   "metadata": {},
   "outputs": [],
   "source": [
    "df['grade_default_interaction'] = df['loan_grade_encoded'] * df['cb_person_default_on_file_encoded']"
   ]
  },
  {
   "cell_type": "code",
   "execution_count": null,
   "id": "35221cd4-0902-47ab-97c4-9e82e805bf8c",
   "metadata": {},
   "outputs": [],
   "source": []
  },
  {
   "cell_type": "markdown",
   "id": "dc0058d4-bbe7-4b9a-8aca-d8b7a897bf79",
   "metadata": {},
   "source": [
    "### Eşik Değerlerle İkili (Binary) Özellikler Oluşturma\n",
    "\n",
    "- **Gelire Göre Yüksek Kredi Oranı (`high_percent_income`)**  \n",
    "  Kredi miktarının gelire oranı %30’dan büyükse, bu kişi için 1 değeri atanır (yüksek yük), aksi halde 0 atanır.\n",
    "\n",
    "- **Yüksek Faiz Oranı (`high_int_rate`)**  \n",
    "  Kredi faiz oranı %12’den fazlaysa 1 olarak kodlanır (yüksek faiz), değilse 0 atanır.\n",
    "\n",
    "Bu şekilde, riskli kredi durumları kolayca ayırt edilebilir.\n"
   ]
  },
  {
   "cell_type": "code",
   "execution_count": 97,
   "id": "8db55821-ce64-4b4c-8ab0-061c90334dd8",
   "metadata": {},
   "outputs": [],
   "source": [
    "df['high_percent_income'] = (df['loan_percent_income'] > 0.3).astype(int)\n",
    "df['high_int_rate'] = (df['loan_int_rate'] > 12).astype(int)"
   ]
  },
  {
   "cell_type": "code",
   "execution_count": null,
   "id": "a1f46112-5d4b-4cfe-b538-fd1add76cc14",
   "metadata": {},
   "outputs": [],
   "source": []
  },
  {
   "cell_type": "markdown",
   "id": "452ecf06-5927-4c7d-9e1f-4b6a01a63b25",
   "metadata": {},
   "source": [
    "### Öznitelik (Feature) Oluşturma ve Risk Göstergeleri\n",
    "\n",
    "1. **Kredi Miktarının Gelire Oranı (`loan_to_income`)**  \n",
    "   Kredi miktarı, kişinin gelirine oranlanarak hesaplanır. Bu oran, kişinin gelirine kıyasla ne kadar borçlandığını gösterir. (Sıfıra bölmeyi önlemek için 1 eklenmiştir.)\n",
    "\n",
    "2. **Kredi Notu ile Temerrüt Geçmişi Etkileşimi (`grade_default_interaction`)**  \n",
    "   Kredi notu ile kişinin daha önce temerrüt yapıp yapmadığı bilgisinin çarpımıyla oluşturulur. Riskli kredi notuna sahip ve temerrüt geçmişi olan kişiler daha yüksek değer alır.\n",
    "\n",
    "3. **Yüksek Faizli Krediler (`high_int_rate`)**  \n",
    "   Faiz oranı %12’den yüksek olan krediler için 1, diğerleri için 0 değeri atanır. Bu sayede yüksek faizli krediler belirlenir.\n",
    "\n",
    "4. **Riskli Yaş Grupları (`young`, `old`)**  \n",
    "   En genç yaş grubu (`age_group_encoded == 0`) ve en yaşlı yaş grubu (`age_group_encoded == 3`) için ikili (binary) sütunlar oluşturulur.  \n",
    "   - `young`: En genç grup için 1, diğerleri için 0.\n",
    "   - `old`: En yaşlı grup için 1, diğerleri için 0.\n",
    "\n",
    "Bu yeni öznitelikler, riskli durumların daha kolay tespit edilmesini sağlar.\n"
   ]
  },
  {
   "cell_type": "code",
   "execution_count": 99,
   "id": "ad7fbf62-53d5-4194-9d4f-9c1f0dab10a2",
   "metadata": {},
   "outputs": [],
   "source": [
    "# 1. Kredi miktarını gelire oranla normalleştirmek\n",
    "df['loan_to_income'] = df['loan_amnt'] / (df['person_income'] + 1)\n",
    "\n",
    "# 2. Kredi notu ile default geçmişi etkileşimi\n",
    "df['grade_default_interaction'] = df['loan_grade_encoded'] * df['cb_person_default_on_file_encoded']\n",
    "\n",
    "# 3. Yüksek faizli kredileri işaretlemek\n",
    "df['high_int_rate'] = (df['loan_int_rate'] > 12).astype(int)\n",
    "\n",
    "# 4. Riskli yaş grubunu işaretlemek\n",
    "df['young'] = (df['age_group_encoded'] == 0).astype(int)\n",
    "df['old'] = (df['age_group_encoded'] == 3).astype(int)"
   ]
  },
  {
   "cell_type": "code",
   "execution_count": 105,
   "id": "b4e20b0c-9521-492b-8f41-042fa9453e3d",
   "metadata": {},
   "outputs": [
    {
     "data": {
      "text/plain": [
       "id                                   0.008138\n",
       "person_age                           0.001130\n",
       "person_income                        0.169956\n",
       "person_emp_length                    0.100428\n",
       "loan_amnt                            0.144982\n",
       "loan_int_rate                        0.338948\n",
       "loan_percent_income                  0.378280\n",
       "cb_person_cred_hist_length           0.003030\n",
       "loan_status                          1.000000\n",
       "person_home_ownership_encoded        0.232966\n",
       "loan_intent_approval_difficulty      0.023731\n",
       "loan_grade_encoded                   0.385908\n",
       "cb_person_default_on_file_encoded    0.186962\n",
       "amnt_per_emp_year                    0.157529\n",
       "int_income_ratio                     0.377170\n",
       "grade_default_interaction            0.242814\n",
       "high_percent_income                  0.469781\n",
       "high_int_rate                        0.284901\n",
       "loan_to_income                       0.375606\n",
       "young                                0.015801\n",
       "old                                  0.012189\n",
       "Name: loan_status, dtype: float64"
      ]
     },
     "execution_count": 105,
     "metadata": {},
     "output_type": "execute_result"
    }
   ],
   "source": [
    "abs(df.corr(numeric_only=True))['loan_status']"
   ]
  },
  {
   "cell_type": "code",
   "execution_count": 108,
   "id": "15aa2a04-e8f8-4c01-a8e9-9c5d5870d3eb",
   "metadata": {},
   "outputs": [
    {
     "data": {
      "text/plain": [
       "Index(['id', 'person_age', 'person_income', 'person_home_ownership',\n",
       "       'person_emp_length', 'loan_intent', 'loan_grade', 'loan_amnt',\n",
       "       'loan_int_rate', 'loan_percent_income', 'cb_person_default_on_file',\n",
       "       'cb_person_cred_hist_length', 'loan_status', 'age_group',\n",
       "       'person_home_ownership_encoded', 'loan_intent_approval_difficulty',\n",
       "       'loan_grade_encoded', 'cb_person_default_on_file_encoded',\n",
       "       'age_group_encoded', 'amnt_per_emp_year', 'int_income_ratio',\n",
       "       'grade_default_interaction', 'high_percent_income', 'high_int_rate',\n",
       "       'loan_to_income', 'young', 'old'],\n",
       "      dtype='object')"
      ]
     },
     "execution_count": 108,
     "metadata": {},
     "output_type": "execute_result"
    }
   ],
   "source": [
    "df.columns"
   ]
  },
  {
   "cell_type": "markdown",
   "id": "71082edc-581a-4d8d-908b-637069ea478f",
   "metadata": {},
   "source": [
    "# Modelling"
   ]
  },
  {
   "cell_type": "code",
   "execution_count": 110,
   "id": "2408659c-b819-496f-a866-5652857b3d6c",
   "metadata": {},
   "outputs": [],
   "source": [
    "x = df[[\n",
    "    'person_home_ownership_encoded',\n",
    "    'loan_int_rate',\n",
    "    'loan_percent_income',\n",
    "    'loan_grade_encoded',\n",
    "    'int_income_ratio',\n",
    "    'grade_default_interaction',\n",
    "    'high_percent_income',\n",
    "    'high_int_rate',\n",
    "    'loan_to_income'\n",
    "]]"
   ]
  },
  {
   "cell_type": "code",
   "execution_count": 114,
   "id": "412b07fa-19d6-4c14-a679-5df4efbbb1b5",
   "metadata": {},
   "outputs": [],
   "source": [
    "y=df[['loan_status']]"
   ]
  },
  {
   "cell_type": "code",
   "execution_count": 116,
   "id": "6e75d589-543f-47a7-b443-3bbf8b27554c",
   "metadata": {},
   "outputs": [],
   "source": [
    "from sklearn.linear_model import LogisticRegression\n",
    "from sklearn.neighbors import KNeighborsClassifier\n",
    "from sklearn.tree import DecisionTreeClassifier\n",
    "from sklearn.ensemble import RandomForestClassifier\n",
    "from sklearn.ensemble import AdaBoostClassifier\n",
    "from sklearn.ensemble import GradientBoostingClassifier\n",
    "from sklearn.naive_bayes import MultinomialNB\n",
    "from sklearn.naive_bayes import BernoulliNB\n",
    "\n",
    "from sklearn.metrics import accuracy_score, precision_score, recall_score\n",
    "from sklearn.metrics import f1_score, confusion_matrix, classification_report\n",
    "from sklearn.model_selection import train_test_split\n",
    "\n",
    "b = BernoulliNB()\n",
    "l = LogisticRegression()\n",
    "d = DecisionTreeClassifier()\n",
    "r = RandomForestClassifier()\n",
    "gb= GradientBoostingClassifier()\n",
    "kn= KNeighborsClassifier()\n",
    "ab= AdaBoostClassifier()\n",
    "mn= MultinomialNB()\n",
    "\n",
    "def algo_test(x, y):\n",
    "    modeller=[ b, l, d, r, gb, kn, ab, mn]\n",
    "    isimler=[\"BernoulliNB\", \"LogisticRegression\", \"DecisionTreeClassifier\", \n",
    "             \"RandomForestClassifier\", \"GradientBoostingClassifier\", \"KNeighborsClassifier\",\n",
    "             \"AdaBoostClassifier\", \"MultinomialNB\"]\n",
    "\n",
    "    x_train, x_test, y_train, y_test = train_test_split(x, y, test_size=.3, random_state = 42)\n",
    "    \n",
    "    accuracy = []\n",
    "    precision = []\n",
    "    recall = []\n",
    "    f1 = []\n",
    "    mdl=[]\n",
    "\n",
    "    print(\"Veriler hazır modeller deneniyor\")\n",
    "    for model in modeller:\n",
    "        print(model, \" modeli eğitiliyor!..\")\n",
    "        model=model.fit(x_train,y_train)\n",
    "        tahmin=model.predict(x_test)\n",
    "        mdl.append(model)\n",
    "        accuracy.append(accuracy_score(y_test, tahmin))\n",
    "        precision.append(precision_score(y_test, tahmin, average=\"micro\"))\n",
    "        recall.append(recall_score(y_test, tahmin, average=\"micro\"))\n",
    "        f1.append(f1_score(y_test, tahmin, average=\"micro\"))\n",
    "        print(confusion_matrix(y_test, tahmin))\n",
    "\n",
    "    print(\"Eğitim tamamlandı.\")\n",
    "    \n",
    "    metrics=pd.DataFrame(columns=[\"Accuracy\", \"Precision\", \"Recall\", \"F1\", \"Model\"], index=isimler)\n",
    "    metrics[\"Accuracy\"] = accuracy\n",
    "    metrics[\"Precision\"] = precision  \n",
    "    metrics[\"Recall\"] = recall\n",
    "    metrics[\"F1\"] = f1\n",
    "    metrics[\"Model\"]=mdl\n",
    "\n",
    "    metrics.sort_values(\"F1\", ascending=False, inplace=True)\n",
    "\n",
    "    print(\"En başarılı model: \", metrics.iloc[0].name)\n",
    "    model=metrics.iloc[0,-1]\n",
    "    tahmin=model.predict(np.array(x_test) if model==kn else x_test)\n",
    "    print(\"Confusion Matrix:\")\n",
    "    print(confusion_matrix(y_test, tahmin))\n",
    "    print(\"classification Report:\")\n",
    "    print(classification_report(y_test, tahmin))\n",
    "    print(\"Diğer Modeller:\")\n",
    "    \n",
    "    return metrics.drop(\"Model\", axis=1)\n"
   ]
  },
  {
   "cell_type": "code",
   "execution_count": 118,
   "id": "eafd5cd4-4707-4b03-b7b8-babf3186fb5e",
   "metadata": {},
   "outputs": [
    {
     "name": "stdout",
     "output_type": "stream",
     "text": [
      "Veriler hazır modeller deneniyor\n",
      "BernoulliNB()  modeli eğitiliyor!..\n",
      "[[14819   307]\n",
      " [ 1668   800]]\n",
      "LogisticRegression()  modeli eğitiliyor!..\n",
      "[[14804   322]\n",
      " [ 1131  1337]]\n",
      "DecisionTreeClassifier()  modeli eğitiliyor!..\n",
      "[[14267   859]\n",
      " [  895  1573]]\n",
      "RandomForestClassifier()  modeli eğitiliyor!..\n",
      "[[14722   404]\n",
      " [  864  1604]]\n",
      "GradientBoostingClassifier()  modeli eğitiliyor!..\n",
      "[[14753   373]\n",
      " [  833  1635]]\n",
      "KNeighborsClassifier()  modeli eğitiliyor!..\n",
      "[[14705   421]\n",
      " [  930  1538]]\n",
      "AdaBoostClassifier()  modeli eğitiliyor!..\n",
      "[[14683   443]\n",
      " [  925  1543]]\n",
      "MultinomialNB()  modeli eğitiliyor!..\n",
      "[[14701   425]\n",
      " [ 1542   926]]\n",
      "Eğitim tamamlandı.\n",
      "En başarılı model:  GradientBoostingClassifier\n",
      "Confusion Matrix:\n",
      "[[14753   373]\n",
      " [  833  1635]]\n",
      "classification Report:\n",
      "              precision    recall  f1-score   support\n",
      "\n",
      "           0       0.95      0.98      0.96     15126\n",
      "           1       0.81      0.66      0.73      2468\n",
      "\n",
      "    accuracy                           0.93     17594\n",
      "   macro avg       0.88      0.82      0.85     17594\n",
      "weighted avg       0.93      0.93      0.93     17594\n",
      "\n",
      "Diğer Modeller:\n"
     ]
    },
    {
     "data": {
      "text/html": [
       "<div>\n",
       "<style scoped>\n",
       "    .dataframe tbody tr th:only-of-type {\n",
       "        vertical-align: middle;\n",
       "    }\n",
       "\n",
       "    .dataframe tbody tr th {\n",
       "        vertical-align: top;\n",
       "    }\n",
       "\n",
       "    .dataframe thead th {\n",
       "        text-align: right;\n",
       "    }\n",
       "</style>\n",
       "<table border=\"1\" class=\"dataframe\">\n",
       "  <thead>\n",
       "    <tr style=\"text-align: right;\">\n",
       "      <th></th>\n",
       "      <th>Accuracy</th>\n",
       "      <th>Precision</th>\n",
       "      <th>Recall</th>\n",
       "      <th>F1</th>\n",
       "    </tr>\n",
       "  </thead>\n",
       "  <tbody>\n",
       "    <tr>\n",
       "      <th>GradientBoostingClassifier</th>\n",
       "      <td>0.931454</td>\n",
       "      <td>0.931454</td>\n",
       "      <td>0.931454</td>\n",
       "      <td>0.931454</td>\n",
       "    </tr>\n",
       "    <tr>\n",
       "      <th>RandomForestClassifier</th>\n",
       "      <td>0.927930</td>\n",
       "      <td>0.927930</td>\n",
       "      <td>0.927930</td>\n",
       "      <td>0.927930</td>\n",
       "    </tr>\n",
       "    <tr>\n",
       "      <th>KNeighborsClassifier</th>\n",
       "      <td>0.923212</td>\n",
       "      <td>0.923212</td>\n",
       "      <td>0.923212</td>\n",
       "      <td>0.923212</td>\n",
       "    </tr>\n",
       "    <tr>\n",
       "      <th>AdaBoostClassifier</th>\n",
       "      <td>0.922246</td>\n",
       "      <td>0.922246</td>\n",
       "      <td>0.922246</td>\n",
       "      <td>0.922246</td>\n",
       "    </tr>\n",
       "    <tr>\n",
       "      <th>LogisticRegression</th>\n",
       "      <td>0.917415</td>\n",
       "      <td>0.917415</td>\n",
       "      <td>0.917415</td>\n",
       "      <td>0.917415</td>\n",
       "    </tr>\n",
       "    <tr>\n",
       "      <th>DecisionTreeClassifier</th>\n",
       "      <td>0.900307</td>\n",
       "      <td>0.900307</td>\n",
       "      <td>0.900307</td>\n",
       "      <td>0.900307</td>\n",
       "    </tr>\n",
       "    <tr>\n",
       "      <th>MultinomialNB</th>\n",
       "      <td>0.888201</td>\n",
       "      <td>0.888201</td>\n",
       "      <td>0.888201</td>\n",
       "      <td>0.888201</td>\n",
       "    </tr>\n",
       "    <tr>\n",
       "      <th>BernoulliNB</th>\n",
       "      <td>0.887746</td>\n",
       "      <td>0.887746</td>\n",
       "      <td>0.887746</td>\n",
       "      <td>0.887746</td>\n",
       "    </tr>\n",
       "  </tbody>\n",
       "</table>\n",
       "</div>"
      ],
      "text/plain": [
       "                            Accuracy  Precision    Recall        F1\n",
       "GradientBoostingClassifier  0.931454   0.931454  0.931454  0.931454\n",
       "RandomForestClassifier      0.927930   0.927930  0.927930  0.927930\n",
       "KNeighborsClassifier        0.923212   0.923212  0.923212  0.923212\n",
       "AdaBoostClassifier          0.922246   0.922246  0.922246  0.922246\n",
       "LogisticRegression          0.917415   0.917415  0.917415  0.917415\n",
       "DecisionTreeClassifier      0.900307   0.900307  0.900307  0.900307\n",
       "MultinomialNB               0.888201   0.888201  0.888201  0.888201\n",
       "BernoulliNB                 0.887746   0.887746  0.887746  0.887746"
      ]
     },
     "execution_count": 118,
     "metadata": {},
     "output_type": "execute_result"
    }
   ],
   "source": [
    "algo_test(x,y)"
   ]
  },
  {
   "cell_type": "code",
   "execution_count": 122,
   "id": "eee26a0b-e899-41a6-9bc1-70f2f2ce9db1",
   "metadata": {},
   "outputs": [
    {
     "name": "stdout",
     "output_type": "stream",
     "text": [
      "Model ve feature isimleri loan.pkl dosyasına kaydedildi!\n"
     ]
    }
   ],
   "source": [
    "import pickle\n",
    "\n",
    "# Modelini eğit (örneğin):\n",
    "best_model = GradientBoostingClassifier().fit(x, y)\n",
    "\n",
    "# Feature isimlerini al\n",
    "feature_names = x.columns.tolist()\n",
    "\n",
    "# Model ve feature isimlerini kaydet\n",
    "with open(\"loan.pkl\", \"wb\") as file:\n",
    "    pickle.dump((best_model, feature_names), file)\n",
    "\n",
    "print(\"Model ve feature isimleri loan.pkl dosyasına kaydedildi!\")"
   ]
  },
  {
   "cell_type": "markdown",
   "id": "f1ceb1e2-d21a-4f9d-9cd2-fea6a9ca6e6e",
   "metadata": {},
   "source": [
    "# Loan Approval Prediction - Proje Özeti\n",
    "\n",
    "## Proje Amacı\n",
    "Bu projede, başvuran kişilerin kredi başvurusunun onaylanıp onaylanmayacağını otomatik olarak tahmin etmek amacıyla makine öğrenmesi tabanlı bir model geliştirilmiştir. Model, finans sektöründe kredi riskinin yönetilmesi ve başvuru süreçlerinin otomasyonu açısından fayda sağlamayı hedeflemektedir.\n",
    "\n",
    "## Kullanılan Veri Seti ve Özellikler\n",
    "Modelleme aşamasında aşağıdaki temel özellikler (feature’lar) kullanılmıştır:\n",
    "- **Ev Sahipliği Durumu:** (person_home_ownership_encoded) Kişinin ev sahibi olup olmadığı (0: Kiracı, 1: Ev sahibi, 2: Diğer)\n",
    "- **Kredi Faiz Oranı:** (loan_int_rate) Kredinin faiz oranı (%)\n",
    "- **Kredi/Gelir Oranı:** (loan_percent_income) Kredi miktarının gelire oranı (%)\n",
    "- **Kredi Notu Kategorisi:** (loan_grade_encoded) Başvuran kişinin kredi notu (0: A, 1: B, ... 7: Diğer)\n",
    "- **Faiz/Gelir Oranı:** (int_income_ratio) Faizin gelire oranı\n",
    "- **Not & Temerrüt Etkileşimi:** (grade_default_interaction)\n",
    "- **Yüksek Gelir Oranı:** (high_percent_income) (0: Hayır, 1: Evet)\n",
    "- **Yüksek Faiz Oranı:** (high_int_rate) (0: Hayır, 1: Evet)\n",
    "- **Kredi/Gelir Oranı:** (loan_to_income)\n",
    "\n",
    "## Model Seçimi ve Eğitimi\n",
    "Model olarak **XGBoost (Extreme Gradient Boosting)** algoritması kullanılmıştır.  \n",
    "XGBoost, özellikle sınıflandırma problemlerinde yüksek performansı ve hız avantajıyla bilinen, ağaç tabanlı bir topluluk öğrenme yöntemidir.\n",
    "\n",
    "Modelin eğitimi sırasında, verinin %80’i eğitim, %20’si ise doğrulama (validation) için ayrılmıştır. Model hiperparametre optimizasyonu yapılmış ve eğitim süreci sonunda en yüksek doğruluk oranına ulaşılmıştır.\n",
    "\n",
    "## Sonuçlar ve Başarı Oranı\n",
    "Eğitim ve test aşamalarının ardından modelin doğruluk oranı (accuracy) şu şekilde elde edilmiştir:\n",
    "\n",
    "- **Doğruluk (Accuracy):** %93\n",
    "\n",
    "Bu sonuç, modelin kredi başvurularının onaylanıp onaylanmayacağını oldukça başarılı bir şekilde tahmin ettiğini göstermektedir.\n",
    "\n",
    "## Değerlendirme\n",
    "- Model, finansal risk tahmininde otomasyonu ve insan hatasını minimuma indirmeyi amaçlamaktadır.\n",
    "- Kredi başvurularının hızlı ve objektif değerlendirilmesi için pratik bir çözüm sunar.\n",
    "- Geliştirilen arayüz sayesinde kullanıcılar girdileriyle kolayca tahmin işlemini gerçekleştirebilir.\n",
    "\n",
    "\n",
    "# Canlı Demo\n",
    "\n",
    "Hazırlanan kredi onayı tahmin sisteminin canlı demosuna aşağıdaki bağlantıdan ulaşabilirsiniz:\n",
    "\n",
    "[Loan Approval Detection - Canlı Demo](https://huggingface.co/spaces/HarunDemircioglu11/Loan_Approval_Detection)\n",
    ".\n",
    "\n",
    "---\n",
    "\n"
   ]
  }
 ],
 "metadata": {
  "kernelspec": {
   "display_name": "Python [conda env:base] *",
   "language": "python",
   "name": "conda-base-py"
  },
  "language_info": {
   "codemirror_mode": {
    "name": "ipython",
    "version": 3
   },
   "file_extension": ".py",
   "mimetype": "text/x-python",
   "name": "python",
   "nbconvert_exporter": "python",
   "pygments_lexer": "ipython3",
   "version": "3.12.7"
  }
 },
 "nbformat": 4,
 "nbformat_minor": 5
}
